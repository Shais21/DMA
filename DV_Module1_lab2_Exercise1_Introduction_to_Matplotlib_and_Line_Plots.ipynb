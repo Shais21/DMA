{
  "cells": [
    {
      "cell_type": "markdown",
      "metadata": {
        "id": "97R3G3bWs7LQ"
      },
      "source": [
        "<p style=\"text-align:center\">\n",
        "    <a href=\"https://skills.network\" target=\"_blank\">\n",
        "    <img src=\"https://cf-courses-data.s3.us.cloud-object-storage.appdomain.cloud/assets/logos/SN_web_lightmode.png\" width=\"200\" alt=\"Skills Network Logo\">\n",
        "    </a>\n",
        "</p>\n",
        "\n",
        "\n",
        "# Introduction to Matplotlib and Line Plots\n",
        "\n",
        "\n",
        "Estimated time needed: **20** minutes\n",
        "    \n",
        "\n",
        "## Objectives\n",
        "\n",
        "After completing this lab you will be able to:\n",
        "\n",
        "* Create Data Visualization with Python\n",
        "* Use various Python libraries for visualization\n"
      ]
    },
    {
      "cell_type": "markdown",
      "metadata": {
        "id": "vTHmue-ws7LV"
      },
      "source": [
        "## Introduction\n",
        "\n",
        "The aim of these labs is to introduce you to introduction you to Matplotlib and creating Line Plots.\n",
        "Please make sure that you have completed the prerequisites for this course, namely [**Python Basics for Data Science**](https://www.edx.org/course/python-basics-for-data-science-2) and [**Analyzing Data with Python**](https://www.edx.org/course/data-analysis-with-python).\n",
        "\n",
        "------------\n"
      ]
    },
    {
      "cell_type": "markdown",
      "metadata": {
        "id": "dnHHxlj-s7LY"
      },
      "source": [
        "## Table of Contents\n",
        "\n",
        "<div class=\"alert alert-block alert-info\" style=\"margin-top: 20px\">\n",
        "\n",
        "1. [*pandas* Refresher](#0)<br>\n",
        "2. [The Dataset: Immigration to Canada from 1980 to 2013](#1)<br>\n",
        "3. [Visualizing Data using Matplotlib](#8) <br>\n",
        "    [Matplotlib: Standard Python Visualization Library](#3) <br>\n",
        "5. [Line Plots](#4)\n",
        "</div>\n"
      ]
    },
    {
      "cell_type": "markdown",
      "metadata": {
        "id": "tpEwMsIPs7LY"
      },
      "source": [
        "## *pandas* Refresher<a id=\"0\"></a>\n",
        "\n",
        "The course heavily relies on *pandas* for data wrangling, analysis. Refresh your Panads skill quickly with the lab on [Data pre-processing with Pandas](https://cf-courses-data.s3.us.cloud-object-storage.appdomain.cloud/IBMDeveloperSkillsNetwork-DV0101EN-SkillsNetwork/labs/v4/DV0101EN-Exercise-Dataset-Preprocessing-Exploring-with-Pandas.ipynb)\n",
        "\n",
        "*pandas* is an essential data analysis toolkit for Python.\n",
        "<br>\n",
        "#### We encourage you to spend some time and familiarize yourself with the *pandas*  from the [website](http://pandas.pydata.org/)\n"
      ]
    },
    {
      "cell_type": "markdown",
      "metadata": {
        "id": "w95sYhILs7LZ"
      },
      "source": [
        "### The Dataset: Immigration to Canada from 1980 to 2013 <a id=\"2\"></a>\n"
      ]
    },
    {
      "cell_type": "markdown",
      "metadata": {
        "id": "glub52NGs7La"
      },
      "source": [
        "Dataset Source: [International migration flows to and from selected countries - The 2015 revision](https://www.un.org/development/desa/pd/data/international-migration-flows).\n",
        "In this lab, we will focus on the Canadian immigration data. <br><br>We have already **pre-processed** the data, we will use the **clean data** saved in the csv format for this lab.\n",
        "The Canada Immigration dataset can be fetched from <a href=\"https://cf-courses-data.s3.us.cloud-object-storage.appdomain.cloud/IBMDeveloperSkillsNetwork-DV0101EN-SkillsNetwork/Data%20Files/Canada.csv\">here</a>.\n",
        "\n",
        "---\n"
      ]
    },
    {
      "cell_type": "markdown",
      "metadata": {
        "id": "20CchZ_fs7Lb"
      },
      "source": [
        "Next, we'll do is import two key data analysis modules: *pandas* and *numpy*\n"
      ]
    },
    {
      "cell_type": "code",
      "execution_count": 22,
      "metadata": {
        "tags": [],
        "id": "DHYONhsLs7Lb"
      },
      "outputs": [],
      "source": [
        "import numpy as np  # useful for many scientific computing in Python\n",
        "import pandas as pd # primary data structure library"
      ]
    },
    {
      "cell_type": "markdown",
      "metadata": {
        "id": "jV3FDTLas7Lc"
      },
      "source": [
        "Let's download and import our primary Canadian Immigration dataset using *pandas*'s `read_csv\n",
        "()` method.\n"
      ]
    },
    {
      "cell_type": "code",
      "execution_count": 23,
      "metadata": {
        "tags": [],
        "colab": {
          "base_uri": "https://localhost:8080/"
        },
        "id": "wNiORFRws7Lc",
        "outputId": "17d1edef-4b06-4d33-e77e-facb651034eb"
      },
      "outputs": [
        {
          "output_type": "stream",
          "name": "stdout",
          "text": [
            "Data read into a pandas dataframe!\n"
          ]
        }
      ],
      "source": [
        "df_can = pd.read_csv('https://cf-courses-data.s3.us.cloud-object-storage.appdomain.cloud/IBMDeveloperSkillsNetwork-DV0101EN-SkillsNetwork/Data%20Files/Canada.csv')\n",
        "\n",
        "print('Data read into a pandas dataframe!')"
      ]
    },
    {
      "cell_type": "markdown",
      "metadata": {
        "id": "U83Md_i4s7Ld"
      },
      "source": [
        "Let's view the top 5 rows of the dataset using the `head()` function.\n"
      ]
    },
    {
      "cell_type": "code",
      "execution_count": 24,
      "metadata": {
        "tags": [],
        "colab": {
          "base_uri": "https://localhost:8080/",
          "height": 322
        },
        "id": "b8r3QsJjs7Le",
        "outputId": "cdcd4c30-06f2-4f36-ed09-1c4f732c3ea5"
      },
      "outputs": [
        {
          "output_type": "execute_result",
          "data": {
            "text/plain": [
              "          Country Continent           Region             DevName  1980  1981  \\\n",
              "0     Afghanistan      Asia    Southern Asia  Developing regions    16    39   \n",
              "1         Albania    Europe  Southern Europe   Developed regions     1     0   \n",
              "2         Algeria    Africa  Northern Africa  Developing regions    80    67   \n",
              "3  American Samoa   Oceania        Polynesia  Developing regions     0     1   \n",
              "4         Andorra    Europe  Southern Europe   Developed regions     0     0   \n",
              "\n",
              "   1982  1983  1984  1985  ...  2005  2006  2007  2008  2009  2010  2011  \\\n",
              "0    39    47    71   340  ...  3436  3009  2652  2111  1746  1758  2203   \n",
              "1     0     0     0     0  ...  1223   856   702   560   716   561   539   \n",
              "2    71    69    63    44  ...  3626  4807  3623  4005  5393  4752  4325   \n",
              "3     0     0     0     0  ...     0     1     0     0     0     0     0   \n",
              "4     0     0     0     0  ...     0     1     1     0     0     0     0   \n",
              "\n",
              "   2012  2013  Total  \n",
              "0  2635  2004  58639  \n",
              "1   620   603  15699  \n",
              "2  3774  4331  69439  \n",
              "3     0     0      6  \n",
              "4     1     1     15  \n",
              "\n",
              "[5 rows x 39 columns]"
            ],
            "text/html": [
              "\n",
              "  <div id=\"df-79fd79f1-1656-4507-8139-8f4217d7cb6e\" class=\"colab-df-container\">\n",
              "    <div>\n",
              "<style scoped>\n",
              "    .dataframe tbody tr th:only-of-type {\n",
              "        vertical-align: middle;\n",
              "    }\n",
              "\n",
              "    .dataframe tbody tr th {\n",
              "        vertical-align: top;\n",
              "    }\n",
              "\n",
              "    .dataframe thead th {\n",
              "        text-align: right;\n",
              "    }\n",
              "</style>\n",
              "<table border=\"1\" class=\"dataframe\">\n",
              "  <thead>\n",
              "    <tr style=\"text-align: right;\">\n",
              "      <th></th>\n",
              "      <th>Country</th>\n",
              "      <th>Continent</th>\n",
              "      <th>Region</th>\n",
              "      <th>DevName</th>\n",
              "      <th>1980</th>\n",
              "      <th>1981</th>\n",
              "      <th>1982</th>\n",
              "      <th>1983</th>\n",
              "      <th>1984</th>\n",
              "      <th>1985</th>\n",
              "      <th>...</th>\n",
              "      <th>2005</th>\n",
              "      <th>2006</th>\n",
              "      <th>2007</th>\n",
              "      <th>2008</th>\n",
              "      <th>2009</th>\n",
              "      <th>2010</th>\n",
              "      <th>2011</th>\n",
              "      <th>2012</th>\n",
              "      <th>2013</th>\n",
              "      <th>Total</th>\n",
              "    </tr>\n",
              "  </thead>\n",
              "  <tbody>\n",
              "    <tr>\n",
              "      <th>0</th>\n",
              "      <td>Afghanistan</td>\n",
              "      <td>Asia</td>\n",
              "      <td>Southern Asia</td>\n",
              "      <td>Developing regions</td>\n",
              "      <td>16</td>\n",
              "      <td>39</td>\n",
              "      <td>39</td>\n",
              "      <td>47</td>\n",
              "      <td>71</td>\n",
              "      <td>340</td>\n",
              "      <td>...</td>\n",
              "      <td>3436</td>\n",
              "      <td>3009</td>\n",
              "      <td>2652</td>\n",
              "      <td>2111</td>\n",
              "      <td>1746</td>\n",
              "      <td>1758</td>\n",
              "      <td>2203</td>\n",
              "      <td>2635</td>\n",
              "      <td>2004</td>\n",
              "      <td>58639</td>\n",
              "    </tr>\n",
              "    <tr>\n",
              "      <th>1</th>\n",
              "      <td>Albania</td>\n",
              "      <td>Europe</td>\n",
              "      <td>Southern Europe</td>\n",
              "      <td>Developed regions</td>\n",
              "      <td>1</td>\n",
              "      <td>0</td>\n",
              "      <td>0</td>\n",
              "      <td>0</td>\n",
              "      <td>0</td>\n",
              "      <td>0</td>\n",
              "      <td>...</td>\n",
              "      <td>1223</td>\n",
              "      <td>856</td>\n",
              "      <td>702</td>\n",
              "      <td>560</td>\n",
              "      <td>716</td>\n",
              "      <td>561</td>\n",
              "      <td>539</td>\n",
              "      <td>620</td>\n",
              "      <td>603</td>\n",
              "      <td>15699</td>\n",
              "    </tr>\n",
              "    <tr>\n",
              "      <th>2</th>\n",
              "      <td>Algeria</td>\n",
              "      <td>Africa</td>\n",
              "      <td>Northern Africa</td>\n",
              "      <td>Developing regions</td>\n",
              "      <td>80</td>\n",
              "      <td>67</td>\n",
              "      <td>71</td>\n",
              "      <td>69</td>\n",
              "      <td>63</td>\n",
              "      <td>44</td>\n",
              "      <td>...</td>\n",
              "      <td>3626</td>\n",
              "      <td>4807</td>\n",
              "      <td>3623</td>\n",
              "      <td>4005</td>\n",
              "      <td>5393</td>\n",
              "      <td>4752</td>\n",
              "      <td>4325</td>\n",
              "      <td>3774</td>\n",
              "      <td>4331</td>\n",
              "      <td>69439</td>\n",
              "    </tr>\n",
              "    <tr>\n",
              "      <th>3</th>\n",
              "      <td>American Samoa</td>\n",
              "      <td>Oceania</td>\n",
              "      <td>Polynesia</td>\n",
              "      <td>Developing regions</td>\n",
              "      <td>0</td>\n",
              "      <td>1</td>\n",
              "      <td>0</td>\n",
              "      <td>0</td>\n",
              "      <td>0</td>\n",
              "      <td>0</td>\n",
              "      <td>...</td>\n",
              "      <td>0</td>\n",
              "      <td>1</td>\n",
              "      <td>0</td>\n",
              "      <td>0</td>\n",
              "      <td>0</td>\n",
              "      <td>0</td>\n",
              "      <td>0</td>\n",
              "      <td>0</td>\n",
              "      <td>0</td>\n",
              "      <td>6</td>\n",
              "    </tr>\n",
              "    <tr>\n",
              "      <th>4</th>\n",
              "      <td>Andorra</td>\n",
              "      <td>Europe</td>\n",
              "      <td>Southern Europe</td>\n",
              "      <td>Developed regions</td>\n",
              "      <td>0</td>\n",
              "      <td>0</td>\n",
              "      <td>0</td>\n",
              "      <td>0</td>\n",
              "      <td>0</td>\n",
              "      <td>0</td>\n",
              "      <td>...</td>\n",
              "      <td>0</td>\n",
              "      <td>1</td>\n",
              "      <td>1</td>\n",
              "      <td>0</td>\n",
              "      <td>0</td>\n",
              "      <td>0</td>\n",
              "      <td>0</td>\n",
              "      <td>1</td>\n",
              "      <td>1</td>\n",
              "      <td>15</td>\n",
              "    </tr>\n",
              "  </tbody>\n",
              "</table>\n",
              "<p>5 rows × 39 columns</p>\n",
              "</div>\n",
              "    <div class=\"colab-df-buttons\">\n",
              "\n",
              "  <div class=\"colab-df-container\">\n",
              "    <button class=\"colab-df-convert\" onclick=\"convertToInteractive('df-79fd79f1-1656-4507-8139-8f4217d7cb6e')\"\n",
              "            title=\"Convert this dataframe to an interactive table.\"\n",
              "            style=\"display:none;\">\n",
              "\n",
              "  <svg xmlns=\"http://www.w3.org/2000/svg\" height=\"24px\" viewBox=\"0 -960 960 960\">\n",
              "    <path d=\"M120-120v-720h720v720H120Zm60-500h600v-160H180v160Zm220 220h160v-160H400v160Zm0 220h160v-160H400v160ZM180-400h160v-160H180v160Zm440 0h160v-160H620v160ZM180-180h160v-160H180v160Zm440 0h160v-160H620v160Z\"/>\n",
              "  </svg>\n",
              "    </button>\n",
              "\n",
              "  <style>\n",
              "    .colab-df-container {\n",
              "      display:flex;\n",
              "      gap: 12px;\n",
              "    }\n",
              "\n",
              "    .colab-df-convert {\n",
              "      background-color: #E8F0FE;\n",
              "      border: none;\n",
              "      border-radius: 50%;\n",
              "      cursor: pointer;\n",
              "      display: none;\n",
              "      fill: #1967D2;\n",
              "      height: 32px;\n",
              "      padding: 0 0 0 0;\n",
              "      width: 32px;\n",
              "    }\n",
              "\n",
              "    .colab-df-convert:hover {\n",
              "      background-color: #E2EBFA;\n",
              "      box-shadow: 0px 1px 2px rgba(60, 64, 67, 0.3), 0px 1px 3px 1px rgba(60, 64, 67, 0.15);\n",
              "      fill: #174EA6;\n",
              "    }\n",
              "\n",
              "    .colab-df-buttons div {\n",
              "      margin-bottom: 4px;\n",
              "    }\n",
              "\n",
              "    [theme=dark] .colab-df-convert {\n",
              "      background-color: #3B4455;\n",
              "      fill: #D2E3FC;\n",
              "    }\n",
              "\n",
              "    [theme=dark] .colab-df-convert:hover {\n",
              "      background-color: #434B5C;\n",
              "      box-shadow: 0px 1px 3px 1px rgba(0, 0, 0, 0.15);\n",
              "      filter: drop-shadow(0px 1px 2px rgba(0, 0, 0, 0.3));\n",
              "      fill: #FFFFFF;\n",
              "    }\n",
              "  </style>\n",
              "\n",
              "    <script>\n",
              "      const buttonEl =\n",
              "        document.querySelector('#df-79fd79f1-1656-4507-8139-8f4217d7cb6e button.colab-df-convert');\n",
              "      buttonEl.style.display =\n",
              "        google.colab.kernel.accessAllowed ? 'block' : 'none';\n",
              "\n",
              "      async function convertToInteractive(key) {\n",
              "        const element = document.querySelector('#df-79fd79f1-1656-4507-8139-8f4217d7cb6e');\n",
              "        const dataTable =\n",
              "          await google.colab.kernel.invokeFunction('convertToInteractive',\n",
              "                                                    [key], {});\n",
              "        if (!dataTable) return;\n",
              "\n",
              "        const docLinkHtml = 'Like what you see? Visit the ' +\n",
              "          '<a target=\"_blank\" href=https://colab.research.google.com/notebooks/data_table.ipynb>data table notebook</a>'\n",
              "          + ' to learn more about interactive tables.';\n",
              "        element.innerHTML = '';\n",
              "        dataTable['output_type'] = 'display_data';\n",
              "        await google.colab.output.renderOutput(dataTable, element);\n",
              "        const docLink = document.createElement('div');\n",
              "        docLink.innerHTML = docLinkHtml;\n",
              "        element.appendChild(docLink);\n",
              "      }\n",
              "    </script>\n",
              "  </div>\n",
              "\n",
              "\n",
              "<div id=\"df-f4df2de6-f7ee-49a9-af4d-a13199956be4\">\n",
              "  <button class=\"colab-df-quickchart\" onclick=\"quickchart('df-f4df2de6-f7ee-49a9-af4d-a13199956be4')\"\n",
              "            title=\"Suggest charts\"\n",
              "            style=\"display:none;\">\n",
              "\n",
              "<svg xmlns=\"http://www.w3.org/2000/svg\" height=\"24px\"viewBox=\"0 0 24 24\"\n",
              "     width=\"24px\">\n",
              "    <g>\n",
              "        <path d=\"M19 3H5c-1.1 0-2 .9-2 2v14c0 1.1.9 2 2 2h14c1.1 0 2-.9 2-2V5c0-1.1-.9-2-2-2zM9 17H7v-7h2v7zm4 0h-2V7h2v10zm4 0h-2v-4h2v4z\"/>\n",
              "    </g>\n",
              "</svg>\n",
              "  </button>\n",
              "\n",
              "<style>\n",
              "  .colab-df-quickchart {\n",
              "      --bg-color: #E8F0FE;\n",
              "      --fill-color: #1967D2;\n",
              "      --hover-bg-color: #E2EBFA;\n",
              "      --hover-fill-color: #174EA6;\n",
              "      --disabled-fill-color: #AAA;\n",
              "      --disabled-bg-color: #DDD;\n",
              "  }\n",
              "\n",
              "  [theme=dark] .colab-df-quickchart {\n",
              "      --bg-color: #3B4455;\n",
              "      --fill-color: #D2E3FC;\n",
              "      --hover-bg-color: #434B5C;\n",
              "      --hover-fill-color: #FFFFFF;\n",
              "      --disabled-bg-color: #3B4455;\n",
              "      --disabled-fill-color: #666;\n",
              "  }\n",
              "\n",
              "  .colab-df-quickchart {\n",
              "    background-color: var(--bg-color);\n",
              "    border: none;\n",
              "    border-radius: 50%;\n",
              "    cursor: pointer;\n",
              "    display: none;\n",
              "    fill: var(--fill-color);\n",
              "    height: 32px;\n",
              "    padding: 0;\n",
              "    width: 32px;\n",
              "  }\n",
              "\n",
              "  .colab-df-quickchart:hover {\n",
              "    background-color: var(--hover-bg-color);\n",
              "    box-shadow: 0 1px 2px rgba(60, 64, 67, 0.3), 0 1px 3px 1px rgba(60, 64, 67, 0.15);\n",
              "    fill: var(--button-hover-fill-color);\n",
              "  }\n",
              "\n",
              "  .colab-df-quickchart-complete:disabled,\n",
              "  .colab-df-quickchart-complete:disabled:hover {\n",
              "    background-color: var(--disabled-bg-color);\n",
              "    fill: var(--disabled-fill-color);\n",
              "    box-shadow: none;\n",
              "  }\n",
              "\n",
              "  .colab-df-spinner {\n",
              "    border: 2px solid var(--fill-color);\n",
              "    border-color: transparent;\n",
              "    border-bottom-color: var(--fill-color);\n",
              "    animation:\n",
              "      spin 1s steps(1) infinite;\n",
              "  }\n",
              "\n",
              "  @keyframes spin {\n",
              "    0% {\n",
              "      border-color: transparent;\n",
              "      border-bottom-color: var(--fill-color);\n",
              "      border-left-color: var(--fill-color);\n",
              "    }\n",
              "    20% {\n",
              "      border-color: transparent;\n",
              "      border-left-color: var(--fill-color);\n",
              "      border-top-color: var(--fill-color);\n",
              "    }\n",
              "    30% {\n",
              "      border-color: transparent;\n",
              "      border-left-color: var(--fill-color);\n",
              "      border-top-color: var(--fill-color);\n",
              "      border-right-color: var(--fill-color);\n",
              "    }\n",
              "    40% {\n",
              "      border-color: transparent;\n",
              "      border-right-color: var(--fill-color);\n",
              "      border-top-color: var(--fill-color);\n",
              "    }\n",
              "    60% {\n",
              "      border-color: transparent;\n",
              "      border-right-color: var(--fill-color);\n",
              "    }\n",
              "    80% {\n",
              "      border-color: transparent;\n",
              "      border-right-color: var(--fill-color);\n",
              "      border-bottom-color: var(--fill-color);\n",
              "    }\n",
              "    90% {\n",
              "      border-color: transparent;\n",
              "      border-bottom-color: var(--fill-color);\n",
              "    }\n",
              "  }\n",
              "</style>\n",
              "\n",
              "  <script>\n",
              "    async function quickchart(key) {\n",
              "      const quickchartButtonEl =\n",
              "        document.querySelector('#' + key + ' button');\n",
              "      quickchartButtonEl.disabled = true;  // To prevent multiple clicks.\n",
              "      quickchartButtonEl.classList.add('colab-df-spinner');\n",
              "      try {\n",
              "        const charts = await google.colab.kernel.invokeFunction(\n",
              "            'suggestCharts', [key], {});\n",
              "      } catch (error) {\n",
              "        console.error('Error during call to suggestCharts:', error);\n",
              "      }\n",
              "      quickchartButtonEl.classList.remove('colab-df-spinner');\n",
              "      quickchartButtonEl.classList.add('colab-df-quickchart-complete');\n",
              "    }\n",
              "    (() => {\n",
              "      let quickchartButtonEl =\n",
              "        document.querySelector('#df-f4df2de6-f7ee-49a9-af4d-a13199956be4 button');\n",
              "      quickchartButtonEl.style.display =\n",
              "        google.colab.kernel.accessAllowed ? 'block' : 'none';\n",
              "    })();\n",
              "  </script>\n",
              "</div>\n",
              "\n",
              "    </div>\n",
              "  </div>\n"
            ],
            "application/vnd.google.colaboratory.intrinsic+json": {
              "type": "dataframe"
            }
          },
          "metadata": {},
          "execution_count": 24
        }
      ],
      "source": [
        "df_can.head()\n",
        "# tip: You can specify the number of rows you'd like to see as follows: df_can.head(10)"
      ]
    },
    {
      "cell_type": "markdown",
      "metadata": {
        "id": "G3TLK4L6s7Le"
      },
      "source": [
        "Let's set Country as the index, it will help you to plot the charts easily, by refering to the country names as index value\n"
      ]
    },
    {
      "cell_type": "code",
      "execution_count": 25,
      "metadata": {
        "tags": [],
        "id": "a-sUQyDrs7Le"
      },
      "outputs": [],
      "source": [
        "df_can.set_index('Country', inplace=True)\n",
        "# tip: The opposite of set is reset. So to reset the index, we can use df_can.reset_index()"
      ]
    },
    {
      "cell_type": "code",
      "execution_count": 26,
      "metadata": {
        "tags": [],
        "colab": {
          "base_uri": "https://localhost:8080/",
          "height": 256
        },
        "id": "cFNt2FO9s7Lf",
        "outputId": "40870f29-ca16-440a-cd14-85e74b9d7d7e"
      },
      "outputs": [
        {
          "output_type": "execute_result",
          "data": {
            "text/plain": [
              "            Continent           Region             DevName  1980  1981  1982  \\\n",
              "Country                                                                        \n",
              "Afghanistan      Asia    Southern Asia  Developing regions    16    39    39   \n",
              "Albania        Europe  Southern Europe   Developed regions     1     0     0   \n",
              "Algeria        Africa  Northern Africa  Developing regions    80    67    71   \n",
              "\n",
              "             1983  1984  1985  1986  ...  2005  2006  2007  2008  2009  2010  \\\n",
              "Country                              ...                                       \n",
              "Afghanistan    47    71   340   496  ...  3436  3009  2652  2111  1746  1758   \n",
              "Albania         0     0     0     1  ...  1223   856   702   560   716   561   \n",
              "Algeria        69    63    44    69  ...  3626  4807  3623  4005  5393  4752   \n",
              "\n",
              "             2011  2012  2013  Total  \n",
              "Country                               \n",
              "Afghanistan  2203  2635  2004  58639  \n",
              "Albania       539   620   603  15699  \n",
              "Algeria      4325  3774  4331  69439  \n",
              "\n",
              "[3 rows x 38 columns]"
            ],
            "text/html": [
              "\n",
              "  <div id=\"df-2bdbcc11-f9b5-4211-af2c-8470fc69eb61\" class=\"colab-df-container\">\n",
              "    <div>\n",
              "<style scoped>\n",
              "    .dataframe tbody tr th:only-of-type {\n",
              "        vertical-align: middle;\n",
              "    }\n",
              "\n",
              "    .dataframe tbody tr th {\n",
              "        vertical-align: top;\n",
              "    }\n",
              "\n",
              "    .dataframe thead th {\n",
              "        text-align: right;\n",
              "    }\n",
              "</style>\n",
              "<table border=\"1\" class=\"dataframe\">\n",
              "  <thead>\n",
              "    <tr style=\"text-align: right;\">\n",
              "      <th></th>\n",
              "      <th>Continent</th>\n",
              "      <th>Region</th>\n",
              "      <th>DevName</th>\n",
              "      <th>1980</th>\n",
              "      <th>1981</th>\n",
              "      <th>1982</th>\n",
              "      <th>1983</th>\n",
              "      <th>1984</th>\n",
              "      <th>1985</th>\n",
              "      <th>1986</th>\n",
              "      <th>...</th>\n",
              "      <th>2005</th>\n",
              "      <th>2006</th>\n",
              "      <th>2007</th>\n",
              "      <th>2008</th>\n",
              "      <th>2009</th>\n",
              "      <th>2010</th>\n",
              "      <th>2011</th>\n",
              "      <th>2012</th>\n",
              "      <th>2013</th>\n",
              "      <th>Total</th>\n",
              "    </tr>\n",
              "    <tr>\n",
              "      <th>Country</th>\n",
              "      <th></th>\n",
              "      <th></th>\n",
              "      <th></th>\n",
              "      <th></th>\n",
              "      <th></th>\n",
              "      <th></th>\n",
              "      <th></th>\n",
              "      <th></th>\n",
              "      <th></th>\n",
              "      <th></th>\n",
              "      <th></th>\n",
              "      <th></th>\n",
              "      <th></th>\n",
              "      <th></th>\n",
              "      <th></th>\n",
              "      <th></th>\n",
              "      <th></th>\n",
              "      <th></th>\n",
              "      <th></th>\n",
              "      <th></th>\n",
              "      <th></th>\n",
              "    </tr>\n",
              "  </thead>\n",
              "  <tbody>\n",
              "    <tr>\n",
              "      <th>Afghanistan</th>\n",
              "      <td>Asia</td>\n",
              "      <td>Southern Asia</td>\n",
              "      <td>Developing regions</td>\n",
              "      <td>16</td>\n",
              "      <td>39</td>\n",
              "      <td>39</td>\n",
              "      <td>47</td>\n",
              "      <td>71</td>\n",
              "      <td>340</td>\n",
              "      <td>496</td>\n",
              "      <td>...</td>\n",
              "      <td>3436</td>\n",
              "      <td>3009</td>\n",
              "      <td>2652</td>\n",
              "      <td>2111</td>\n",
              "      <td>1746</td>\n",
              "      <td>1758</td>\n",
              "      <td>2203</td>\n",
              "      <td>2635</td>\n",
              "      <td>2004</td>\n",
              "      <td>58639</td>\n",
              "    </tr>\n",
              "    <tr>\n",
              "      <th>Albania</th>\n",
              "      <td>Europe</td>\n",
              "      <td>Southern Europe</td>\n",
              "      <td>Developed regions</td>\n",
              "      <td>1</td>\n",
              "      <td>0</td>\n",
              "      <td>0</td>\n",
              "      <td>0</td>\n",
              "      <td>0</td>\n",
              "      <td>0</td>\n",
              "      <td>1</td>\n",
              "      <td>...</td>\n",
              "      <td>1223</td>\n",
              "      <td>856</td>\n",
              "      <td>702</td>\n",
              "      <td>560</td>\n",
              "      <td>716</td>\n",
              "      <td>561</td>\n",
              "      <td>539</td>\n",
              "      <td>620</td>\n",
              "      <td>603</td>\n",
              "      <td>15699</td>\n",
              "    </tr>\n",
              "    <tr>\n",
              "      <th>Algeria</th>\n",
              "      <td>Africa</td>\n",
              "      <td>Northern Africa</td>\n",
              "      <td>Developing regions</td>\n",
              "      <td>80</td>\n",
              "      <td>67</td>\n",
              "      <td>71</td>\n",
              "      <td>69</td>\n",
              "      <td>63</td>\n",
              "      <td>44</td>\n",
              "      <td>69</td>\n",
              "      <td>...</td>\n",
              "      <td>3626</td>\n",
              "      <td>4807</td>\n",
              "      <td>3623</td>\n",
              "      <td>4005</td>\n",
              "      <td>5393</td>\n",
              "      <td>4752</td>\n",
              "      <td>4325</td>\n",
              "      <td>3774</td>\n",
              "      <td>4331</td>\n",
              "      <td>69439</td>\n",
              "    </tr>\n",
              "  </tbody>\n",
              "</table>\n",
              "<p>3 rows × 38 columns</p>\n",
              "</div>\n",
              "    <div class=\"colab-df-buttons\">\n",
              "\n",
              "  <div class=\"colab-df-container\">\n",
              "    <button class=\"colab-df-convert\" onclick=\"convertToInteractive('df-2bdbcc11-f9b5-4211-af2c-8470fc69eb61')\"\n",
              "            title=\"Convert this dataframe to an interactive table.\"\n",
              "            style=\"display:none;\">\n",
              "\n",
              "  <svg xmlns=\"http://www.w3.org/2000/svg\" height=\"24px\" viewBox=\"0 -960 960 960\">\n",
              "    <path d=\"M120-120v-720h720v720H120Zm60-500h600v-160H180v160Zm220 220h160v-160H400v160Zm0 220h160v-160H400v160ZM180-400h160v-160H180v160Zm440 0h160v-160H620v160ZM180-180h160v-160H180v160Zm440 0h160v-160H620v160Z\"/>\n",
              "  </svg>\n",
              "    </button>\n",
              "\n",
              "  <style>\n",
              "    .colab-df-container {\n",
              "      display:flex;\n",
              "      gap: 12px;\n",
              "    }\n",
              "\n",
              "    .colab-df-convert {\n",
              "      background-color: #E8F0FE;\n",
              "      border: none;\n",
              "      border-radius: 50%;\n",
              "      cursor: pointer;\n",
              "      display: none;\n",
              "      fill: #1967D2;\n",
              "      height: 32px;\n",
              "      padding: 0 0 0 0;\n",
              "      width: 32px;\n",
              "    }\n",
              "\n",
              "    .colab-df-convert:hover {\n",
              "      background-color: #E2EBFA;\n",
              "      box-shadow: 0px 1px 2px rgba(60, 64, 67, 0.3), 0px 1px 3px 1px rgba(60, 64, 67, 0.15);\n",
              "      fill: #174EA6;\n",
              "    }\n",
              "\n",
              "    .colab-df-buttons div {\n",
              "      margin-bottom: 4px;\n",
              "    }\n",
              "\n",
              "    [theme=dark] .colab-df-convert {\n",
              "      background-color: #3B4455;\n",
              "      fill: #D2E3FC;\n",
              "    }\n",
              "\n",
              "    [theme=dark] .colab-df-convert:hover {\n",
              "      background-color: #434B5C;\n",
              "      box-shadow: 0px 1px 3px 1px rgba(0, 0, 0, 0.15);\n",
              "      filter: drop-shadow(0px 1px 2px rgba(0, 0, 0, 0.3));\n",
              "      fill: #FFFFFF;\n",
              "    }\n",
              "  </style>\n",
              "\n",
              "    <script>\n",
              "      const buttonEl =\n",
              "        document.querySelector('#df-2bdbcc11-f9b5-4211-af2c-8470fc69eb61 button.colab-df-convert');\n",
              "      buttonEl.style.display =\n",
              "        google.colab.kernel.accessAllowed ? 'block' : 'none';\n",
              "\n",
              "      async function convertToInteractive(key) {\n",
              "        const element = document.querySelector('#df-2bdbcc11-f9b5-4211-af2c-8470fc69eb61');\n",
              "        const dataTable =\n",
              "          await google.colab.kernel.invokeFunction('convertToInteractive',\n",
              "                                                    [key], {});\n",
              "        if (!dataTable) return;\n",
              "\n",
              "        const docLinkHtml = 'Like what you see? Visit the ' +\n",
              "          '<a target=\"_blank\" href=https://colab.research.google.com/notebooks/data_table.ipynb>data table notebook</a>'\n",
              "          + ' to learn more about interactive tables.';\n",
              "        element.innerHTML = '';\n",
              "        dataTable['output_type'] = 'display_data';\n",
              "        await google.colab.output.renderOutput(dataTable, element);\n",
              "        const docLink = document.createElement('div');\n",
              "        docLink.innerHTML = docLinkHtml;\n",
              "        element.appendChild(docLink);\n",
              "      }\n",
              "    </script>\n",
              "  </div>\n",
              "\n",
              "\n",
              "<div id=\"df-4bbb2abe-b441-4874-8d08-fd91259e7077\">\n",
              "  <button class=\"colab-df-quickchart\" onclick=\"quickchart('df-4bbb2abe-b441-4874-8d08-fd91259e7077')\"\n",
              "            title=\"Suggest charts\"\n",
              "            style=\"display:none;\">\n",
              "\n",
              "<svg xmlns=\"http://www.w3.org/2000/svg\" height=\"24px\"viewBox=\"0 0 24 24\"\n",
              "     width=\"24px\">\n",
              "    <g>\n",
              "        <path d=\"M19 3H5c-1.1 0-2 .9-2 2v14c0 1.1.9 2 2 2h14c1.1 0 2-.9 2-2V5c0-1.1-.9-2-2-2zM9 17H7v-7h2v7zm4 0h-2V7h2v10zm4 0h-2v-4h2v4z\"/>\n",
              "    </g>\n",
              "</svg>\n",
              "  </button>\n",
              "\n",
              "<style>\n",
              "  .colab-df-quickchart {\n",
              "      --bg-color: #E8F0FE;\n",
              "      --fill-color: #1967D2;\n",
              "      --hover-bg-color: #E2EBFA;\n",
              "      --hover-fill-color: #174EA6;\n",
              "      --disabled-fill-color: #AAA;\n",
              "      --disabled-bg-color: #DDD;\n",
              "  }\n",
              "\n",
              "  [theme=dark] .colab-df-quickchart {\n",
              "      --bg-color: #3B4455;\n",
              "      --fill-color: #D2E3FC;\n",
              "      --hover-bg-color: #434B5C;\n",
              "      --hover-fill-color: #FFFFFF;\n",
              "      --disabled-bg-color: #3B4455;\n",
              "      --disabled-fill-color: #666;\n",
              "  }\n",
              "\n",
              "  .colab-df-quickchart {\n",
              "    background-color: var(--bg-color);\n",
              "    border: none;\n",
              "    border-radius: 50%;\n",
              "    cursor: pointer;\n",
              "    display: none;\n",
              "    fill: var(--fill-color);\n",
              "    height: 32px;\n",
              "    padding: 0;\n",
              "    width: 32px;\n",
              "  }\n",
              "\n",
              "  .colab-df-quickchart:hover {\n",
              "    background-color: var(--hover-bg-color);\n",
              "    box-shadow: 0 1px 2px rgba(60, 64, 67, 0.3), 0 1px 3px 1px rgba(60, 64, 67, 0.15);\n",
              "    fill: var(--button-hover-fill-color);\n",
              "  }\n",
              "\n",
              "  .colab-df-quickchart-complete:disabled,\n",
              "  .colab-df-quickchart-complete:disabled:hover {\n",
              "    background-color: var(--disabled-bg-color);\n",
              "    fill: var(--disabled-fill-color);\n",
              "    box-shadow: none;\n",
              "  }\n",
              "\n",
              "  .colab-df-spinner {\n",
              "    border: 2px solid var(--fill-color);\n",
              "    border-color: transparent;\n",
              "    border-bottom-color: var(--fill-color);\n",
              "    animation:\n",
              "      spin 1s steps(1) infinite;\n",
              "  }\n",
              "\n",
              "  @keyframes spin {\n",
              "    0% {\n",
              "      border-color: transparent;\n",
              "      border-bottom-color: var(--fill-color);\n",
              "      border-left-color: var(--fill-color);\n",
              "    }\n",
              "    20% {\n",
              "      border-color: transparent;\n",
              "      border-left-color: var(--fill-color);\n",
              "      border-top-color: var(--fill-color);\n",
              "    }\n",
              "    30% {\n",
              "      border-color: transparent;\n",
              "      border-left-color: var(--fill-color);\n",
              "      border-top-color: var(--fill-color);\n",
              "      border-right-color: var(--fill-color);\n",
              "    }\n",
              "    40% {\n",
              "      border-color: transparent;\n",
              "      border-right-color: var(--fill-color);\n",
              "      border-top-color: var(--fill-color);\n",
              "    }\n",
              "    60% {\n",
              "      border-color: transparent;\n",
              "      border-right-color: var(--fill-color);\n",
              "    }\n",
              "    80% {\n",
              "      border-color: transparent;\n",
              "      border-right-color: var(--fill-color);\n",
              "      border-bottom-color: var(--fill-color);\n",
              "    }\n",
              "    90% {\n",
              "      border-color: transparent;\n",
              "      border-bottom-color: var(--fill-color);\n",
              "    }\n",
              "  }\n",
              "</style>\n",
              "\n",
              "  <script>\n",
              "    async function quickchart(key) {\n",
              "      const quickchartButtonEl =\n",
              "        document.querySelector('#' + key + ' button');\n",
              "      quickchartButtonEl.disabled = true;  // To prevent multiple clicks.\n",
              "      quickchartButtonEl.classList.add('colab-df-spinner');\n",
              "      try {\n",
              "        const charts = await google.colab.kernel.invokeFunction(\n",
              "            'suggestCharts', [key], {});\n",
              "      } catch (error) {\n",
              "        console.error('Error during call to suggestCharts:', error);\n",
              "      }\n",
              "      quickchartButtonEl.classList.remove('colab-df-spinner');\n",
              "      quickchartButtonEl.classList.add('colab-df-quickchart-complete');\n",
              "    }\n",
              "    (() => {\n",
              "      let quickchartButtonEl =\n",
              "        document.querySelector('#df-4bbb2abe-b441-4874-8d08-fd91259e7077 button');\n",
              "      quickchartButtonEl.style.display =\n",
              "        google.colab.kernel.accessAllowed ? 'block' : 'none';\n",
              "    })();\n",
              "  </script>\n",
              "</div>\n",
              "\n",
              "    </div>\n",
              "  </div>\n"
            ],
            "application/vnd.google.colaboratory.intrinsic+json": {
              "type": "dataframe",
              "variable_name": "df_can"
            }
          },
          "metadata": {},
          "execution_count": 26
        }
      ],
      "source": [
        "#let's check\n",
        "df_can.head(3)\n"
      ]
    },
    {
      "cell_type": "code",
      "execution_count": 27,
      "metadata": {
        "tags": [],
        "id": "m2M_0rI-s7Lf"
      },
      "outputs": [],
      "source": [
        "# optional: to remove the name of the index\n",
        "df_can.index.name = None"
      ]
    },
    {
      "cell_type": "markdown",
      "metadata": {
        "id": "9C2E2F0Ws7Lf"
      },
      "source": [
        "Since we converted the years to string, let's declare a variable that will allow us to easily call upon the full range of years:\n"
      ]
    },
    {
      "cell_type": "code",
      "execution_count": 28,
      "metadata": {
        "tags": [],
        "colab": {
          "base_uri": "https://localhost:8080/"
        },
        "id": "WVWigGHKs7Lf",
        "outputId": "776c520c-86ff-4317-9f28-a8245f30170b"
      },
      "outputs": [
        {
          "output_type": "execute_result",
          "data": {
            "text/plain": [
              "['1980',\n",
              " '1981',\n",
              " '1982',\n",
              " '1983',\n",
              " '1984',\n",
              " '1985',\n",
              " '1986',\n",
              " '1987',\n",
              " '1988',\n",
              " '1989',\n",
              " '1990',\n",
              " '1991',\n",
              " '1992',\n",
              " '1993',\n",
              " '1994',\n",
              " '1995',\n",
              " '1996',\n",
              " '1997',\n",
              " '1998',\n",
              " '1999',\n",
              " '2000',\n",
              " '2001',\n",
              " '2002',\n",
              " '2003',\n",
              " '2004',\n",
              " '2005',\n",
              " '2006',\n",
              " '2007',\n",
              " '2008',\n",
              " '2009',\n",
              " '2010',\n",
              " '2011',\n",
              " '2012',\n",
              " '2013']"
            ]
          },
          "metadata": {},
          "execution_count": 28
        }
      ],
      "source": [
        "# useful for plotting later on\n",
        "years = list(map(str, range(1980, 2014)))\n",
        "years"
      ]
    },
    {
      "cell_type": "markdown",
      "metadata": {
        "id": "9R0963D1s7Lg"
      },
      "source": [
        "---\n",
        "# Visualizing Data using Matplotlib<a id=\"8\"></a>\n"
      ]
    },
    {
      "cell_type": "markdown",
      "metadata": {
        "id": "KADsq4_os7Lg"
      },
      "source": [
        "## Matplotlib: Standard Python Visualization Library<a id=\"3\"></a>\n",
        "\n",
        "The primary plotting library we will explore in the course is [Matplotlib](http://matplotlib.org/).  As mentioned on their website:\n",
        ">Matplotlib is a Python 2D plotting library which produces publication quality figures in a variety of hardcopy formats and interactive environments across platforms. Matplotlib can be used in Python scripts, the Python and IPython shell, the jupyter notebook, web application servers, and four graphical user interface toolkits.\n",
        "\n",
        "If you are aspiring to create impactful visualization with python, Matplotlib is an essential tool to have at your disposal.\n"
      ]
    },
    {
      "cell_type": "markdown",
      "metadata": {
        "id": "c65viO55s7Lg"
      },
      "source": [
        "### Matplotlib.Pyplot\n",
        "\n",
        "One of the core aspects of Matplotlib is `matplotlib.pyplot`. It is Matplotlib's scripting layer which we studied in details in the videos about Matplotlib. Recall that it is a collection of command style functions that make Matplotlib work like MATLAB. Each `pyplot` function makes some change to a figure: e.g., creates a figure, creates a plotting area in a figure, plots some lines in a plotting area, decorates the plot with labels, etc. In this lab, we will work with the scripting layer to learn how to generate line plots. In future labs, we will get to work with the Artist layer as well to experiment first hand how it differs from the scripting layer.\n"
      ]
    },
    {
      "cell_type": "markdown",
      "metadata": {
        "id": "n4RPhmbBs7Lg"
      },
      "source": [
        "Let's start by importing `matplotlib` and `matplotlib.pyplot` as follows:\n"
      ]
    },
    {
      "cell_type": "code",
      "execution_count": 29,
      "metadata": {
        "tags": [],
        "id": "WlHWcPPLs7Lh"
      },
      "outputs": [],
      "source": [
        "# we are using the inline backend\n",
        "%matplotlib inline\n",
        "\n",
        "import matplotlib as mpl\n",
        "import matplotlib.pyplot as plt"
      ]
    },
    {
      "cell_type": "markdown",
      "metadata": {
        "id": "J7TLYCNms7Lh"
      },
      "source": [
        "*optional: check if Matplotlib is loaded.\n"
      ]
    },
    {
      "cell_type": "code",
      "execution_count": 30,
      "metadata": {
        "tags": [],
        "colab": {
          "base_uri": "https://localhost:8080/"
        },
        "id": "kKAamRHis7Lh",
        "outputId": "90228bff-311c-468d-d73f-13f1f9084d33"
      },
      "outputs": [
        {
          "output_type": "stream",
          "name": "stdout",
          "text": [
            "Matplotlib version:  3.8.0\n"
          ]
        }
      ],
      "source": [
        "print('Matplotlib version: ', mpl.__version__)  # >= 2.0.0"
      ]
    },
    {
      "cell_type": "markdown",
      "metadata": {
        "id": "JIYuIDZvs7Li"
      },
      "source": [
        "*optional: apply a style to Matplotlib.\n"
      ]
    },
    {
      "cell_type": "code",
      "execution_count": 31,
      "metadata": {
        "tags": [],
        "colab": {
          "base_uri": "https://localhost:8080/"
        },
        "id": "0pBR0fc6s7Lj",
        "outputId": "9e482f7a-243b-428f-8132-74ffb0aae2c1"
      },
      "outputs": [
        {
          "output_type": "stream",
          "name": "stdout",
          "text": [
            "['Solarize_Light2', '_classic_test_patch', '_mpl-gallery', '_mpl-gallery-nogrid', 'bmh', 'classic', 'dark_background', 'fast', 'fivethirtyeight', 'ggplot', 'grayscale', 'seaborn-v0_8', 'seaborn-v0_8-bright', 'seaborn-v0_8-colorblind', 'seaborn-v0_8-dark', 'seaborn-v0_8-dark-palette', 'seaborn-v0_8-darkgrid', 'seaborn-v0_8-deep', 'seaborn-v0_8-muted', 'seaborn-v0_8-notebook', 'seaborn-v0_8-paper', 'seaborn-v0_8-pastel', 'seaborn-v0_8-poster', 'seaborn-v0_8-talk', 'seaborn-v0_8-ticks', 'seaborn-v0_8-white', 'seaborn-v0_8-whitegrid', 'tableau-colorblind10']\n"
          ]
        }
      ],
      "source": [
        "print(plt.style.available)\n",
        "mpl.style.use(['ggplot']) # optional: for ggplot-like style"
      ]
    },
    {
      "cell_type": "markdown",
      "metadata": {
        "id": "SrIRZdzTs7Lj"
      },
      "source": [
        "### Plotting in *pandas*\n",
        "\n",
        "Fortunately, pandas has a built-in implementation of Matplotlib that we can use. Plotting in *pandas* is as simple as appending a `.plot()` method to a series or dataframe.\n",
        "\n",
        "Documentation:\n",
        "- [Plotting with Series](http://pandas.pydata.org/pandas-docs/stable/api.html#plotting)<br>\n",
        "- [Plotting with Dataframes](http://pandas.pydata.org/pandas-docs/stable/api.html#api-dataframe-plotting)\n"
      ]
    },
    {
      "cell_type": "markdown",
      "metadata": {
        "id": "UkM-cWS1s7Lj"
      },
      "source": [
        "# Line Pots (Series/Dataframe) <a id=\"4\"></a>\n"
      ]
    },
    {
      "cell_type": "markdown",
      "metadata": {
        "id": "fDsBduKDs7Lk"
      },
      "source": [
        "**What is a line plot and why use it?**\n",
        "\n",
        "A line chart or line plot is a type of plot which displays information as a series of data points called 'markers' connected by straight line segments. It is a basic type of chart common in many fields.\n",
        "Use line plot when you have a continuous data set. These are best suited for trend-based visualizations of data over a period of time.\n"
      ]
    },
    {
      "cell_type": "markdown",
      "metadata": {
        "id": "zLK21ot-s7Lk"
      },
      "source": [
        "**Let's start with a case study:**\n",
        "\n",
        "In 2010, Haiti suffered a catastrophic magnitude 7.0 earthquake. The quake caused widespread devastation and loss of life and about three million people were affected by this natural disaster. As part of Canada's humanitarian effort, the Government of Canada stepped up its effort in accepting refugees from Haiti. We can quickly visualize this effort using a `Line` plot:\n",
        "\n",
        "**Question:** Plot a line graph of immigration from Haiti using `df.plot()`.\n"
      ]
    },
    {
      "cell_type": "markdown",
      "metadata": {
        "id": "V4UfhfIHs7Ll"
      },
      "source": [
        "First, we will extract the data series for Haiti.\n"
      ]
    },
    {
      "cell_type": "code",
      "execution_count": 32,
      "metadata": {
        "tags": [],
        "colab": {
          "base_uri": "https://localhost:8080/",
          "height": 241
        },
        "id": "jCv3-l-Ds7Lm",
        "outputId": "94d1b141-9f9b-40ec-9612-4b22c923915c"
      },
      "outputs": [
        {
          "output_type": "execute_result",
          "data": {
            "text/plain": [
              "1980    1666\n",
              "1981    3692\n",
              "1982    3498\n",
              "1983    2860\n",
              "1984    1418\n",
              "Name: Haiti, dtype: object"
            ],
            "text/html": [
              "<div>\n",
              "<style scoped>\n",
              "    .dataframe tbody tr th:only-of-type {\n",
              "        vertical-align: middle;\n",
              "    }\n",
              "\n",
              "    .dataframe tbody tr th {\n",
              "        vertical-align: top;\n",
              "    }\n",
              "\n",
              "    .dataframe thead th {\n",
              "        text-align: right;\n",
              "    }\n",
              "</style>\n",
              "<table border=\"1\" class=\"dataframe\">\n",
              "  <thead>\n",
              "    <tr style=\"text-align: right;\">\n",
              "      <th></th>\n",
              "      <th>Haiti</th>\n",
              "    </tr>\n",
              "  </thead>\n",
              "  <tbody>\n",
              "    <tr>\n",
              "      <th>1980</th>\n",
              "      <td>1666</td>\n",
              "    </tr>\n",
              "    <tr>\n",
              "      <th>1981</th>\n",
              "      <td>3692</td>\n",
              "    </tr>\n",
              "    <tr>\n",
              "      <th>1982</th>\n",
              "      <td>3498</td>\n",
              "    </tr>\n",
              "    <tr>\n",
              "      <th>1983</th>\n",
              "      <td>2860</td>\n",
              "    </tr>\n",
              "    <tr>\n",
              "      <th>1984</th>\n",
              "      <td>1418</td>\n",
              "    </tr>\n",
              "  </tbody>\n",
              "</table>\n",
              "</div><br><label><b>dtype:</b> object</label>"
            ]
          },
          "metadata": {},
          "execution_count": 32
        }
      ],
      "source": [
        "#Since we converted the years to string,\n",
        "#let's declare a variable that will allow us to easily call upon the full range of years:\n",
        "years = list(map(str, range(1980, 2014)))\n",
        "#creating data series\n",
        "haiti = df_can.loc['Haiti', years] # passing in years 1980 - 2013 to exclude the 'total' column\n",
        "haiti.head()"
      ]
    },
    {
      "cell_type": "markdown",
      "metadata": {
        "id": "qp071n_Ys7Ln"
      },
      "source": [
        "Next, we will plot a line plot by appending `.plot()` to the `haiti` dataframe.\n"
      ]
    },
    {
      "cell_type": "code",
      "execution_count": 33,
      "metadata": {
        "tags": [],
        "colab": {
          "base_uri": "https://localhost:8080/",
          "height": 447
        },
        "id": "VbMEcaais7Ln",
        "outputId": "bf488e87-78db-481b-f904-afe7dc881ec0"
      },
      "outputs": [
        {
          "output_type": "execute_result",
          "data": {
            "text/plain": [
              "<Axes: >"
            ]
          },
          "metadata": {},
          "execution_count": 33
        },
        {
          "output_type": "display_data",
          "data": {
            "text/plain": [
              "<Figure size 640x480 with 1 Axes>"
            ],
            "image/png": "[encoded data removed]"
          },
          "metadata": {}
        }
      ],
      "source": [
        "haiti.plot()"
      ]
    },
    {
      "cell_type": "markdown",
      "metadata": {
        "id": "lENZ8QsQs7Ln"
      },
      "source": [
        "*pandas* automatically populated the x-axis with the index values (years), and the y-axis with the column values (population). <br>\n",
        "\n",
        "Also, let's label the x and y axis using `plt.title()`, `plt.ylabel()`, and `plt.xlabel()` as follows:\n"
      ]
    },
    {
      "cell_type": "code",
      "execution_count": 34,
      "metadata": {
        "tags": [],
        "colab": {
          "base_uri": "https://localhost:8080/",
          "height": 477
        },
        "id": "26PMFqVJs7Ln",
        "outputId": "ef1f6e74-a232-4080-dfa4-8e57cb1cda69"
      },
      "outputs": [
        {
          "output_type": "display_data",
          "data": {
            "text/plain": [
              "<Figure size 640x480 with 1 Axes>"
            ],
            "image/png": "[encoded data removed]"
          },
          "metadata": {}
        }
      ],
      "source": [
        "haiti.plot(kind='line')\n",
        "\n",
        "plt.title('Immigration from Haiti')\n",
        "plt.ylabel('Number of immigrants')\n",
        "plt.xlabel('Years')\n",
        "\n",
        "plt.show() # need this line to show the updates made to the figure"
      ]
    },
    {
      "cell_type": "markdown",
      "metadata": {
        "id": "itJXTGQ0s7Lo"
      },
      "source": [
        "We can clearly notice how number of immigrants from Haiti spiked up from 2010 as Canada stepped up its efforts to accept refugees from Haiti. Let's annotate this spike in the plot by using the `plt.text()` method.<br>\n",
        "<br>\n",
        "However, notice that years are of type *string*. Let's change the type of the index values to *integer* first.\n"
      ]
    },
    {
      "cell_type": "code",
      "execution_count": 35,
      "metadata": {
        "tags": [],
        "colab": {
          "base_uri": "https://localhost:8080/",
          "height": 477
        },
        "id": "klF-bIyns7Lo",
        "outputId": "683c4723-f782-456b-ad9e-095ca85de97e"
      },
      "outputs": [
        {
          "output_type": "display_data",
          "data": {
            "text/plain": [
              "<Figure size 640x480 with 1 Axes>"
            ],
            "image/png": "[encoded data removed]"
          },
          "metadata": {}
        }
      ],
      "source": [
        "haiti.index = haiti.index.map(int)\n",
        "haiti.plot(kind='line')\n",
        "\n",
        "plt.title('Immigration from Haiti')\n",
        "plt.ylabel('Number of Immigrants')\n",
        "plt.xlabel('Years')\n",
        "\n",
        "# annotate the 2010 Earthquake.\n",
        "# syntax: plt.text(x, y, label)\n",
        "plt.text(2000, 6000, '2010 Earthquake') # see note below\n",
        "\n",
        "plt.show()"
      ]
    },
    {
      "cell_type": "markdown",
      "metadata": {
        "id": "F82tbOxjs7Lq"
      },
      "source": [
        "With just a few lines of code, you were able to quickly identify and visualize the spike in immigration!\n",
        "\n",
        "Quick note on x and y values in `plt.text(x, y, label)`:\n",
        "    \n",
        "     Since the x-axis (years) is type 'integer', we specified x as a year. The y axis (number of immigrants) is type 'integer', so we can just specify the value y = 6000.\n",
        "    \n",
        "```python\n",
        "    plt.text(2000, 6000, '2010 Earthquake') # years stored as type int\n",
        "```\n",
        "    If the years were stored as type 'string', we would need to specify x as the index position of the year. Eg 20th index is year 2000 since it is the 20th year with a base year of 1980.\n",
        "```python\n",
        "    plt.text(20, 6000, '2010 Earthquake') # years stored as type int\n",
        "```\n",
        "    We will cover advanced annotation methods in later modules.\n"
      ]
    },
    {
      "cell_type": "markdown",
      "metadata": {
        "id": "0ImuGFw6s7Lq"
      },
      "source": [
        "We can easily add more countries to line plot to make meaningful comparisons immigration from different countries.\n",
        "\n",
        "**Question:** Let's compare the number of immigrants from India and China from 1980 to 2013.\n"
      ]
    },
    {
      "cell_type": "markdown",
      "metadata": {
        "id": "ExvyKnRGs7Lq"
      },
      "source": [
        "Step 1: Get the data set for China and India, and display the dataframe.\n"
      ]
    },
    {
      "cell_type": "code",
      "execution_count": 36,
      "metadata": {
        "tags": [],
        "colab": {
          "base_uri": "https://localhost:8080/",
          "height": 141
        },
        "id": "XS0cQq3Js7Lr",
        "outputId": "757aa6d5-97cf-4261-e5f6-7b01ba7ea6c9"
      },
      "outputs": [
        {
          "output_type": "execute_result",
          "data": {
            "text/plain": [
              "       1980  1981  1982  1983  1984  1985  1986   1987   1988   1989  ...  \\\n",
              "China  5123  6682  3308  1863  1527  1816  1960   2643   2758   4323  ...   \n",
              "India  8880  8670  8147  7338  5704  4211  7150  10189  11522  10343  ...   \n",
              "\n",
              "        2004   2005   2006   2007   2008   2009   2010   2011   2012   2013  \n",
              "China  36619  42584  33518  27642  30037  29622  30391  28502  33024  34129  \n",
              "India  28235  36210  33848  28742  28261  29456  34235  27509  30933  33087  \n",
              "\n",
              "[2 rows x 34 columns]"
            ],
            "text/html": [
              "\n",
              "  <div id=\"df-8abaeb90-9ab0-40be-94c2-5451cc366c46\" class=\"colab-df-container\">\n",
              "    <div>\n",
              "<style scoped>\n",
              "    .dataframe tbody tr th:only-of-type {\n",
              "        vertical-align: middle;\n",
              "    }\n",
              "\n",
              "    .dataframe tbody tr th {\n",
              "        vertical-align: top;\n",
              "    }\n",
              "\n",
              "    .dataframe thead th {\n",
              "        text-align: right;\n",
              "    }\n",
              "</style>\n",
              "<table border=\"1\" class=\"dataframe\">\n",
              "  <thead>\n",
              "    <tr style=\"text-align: right;\">\n",
              "      <th></th>\n",
              "      <th>1980</th>\n",
              "      <th>1981</th>\n",
              "      <th>1982</th>\n",
              "      <th>1983</th>\n",
              "      <th>1984</th>\n",
              "      <th>1985</th>\n",
              "      <th>1986</th>\n",
              "      <th>1987</th>\n",
              "      <th>1988</th>\n",
              "      <th>1989</th>\n",
              "      <th>...</th>\n",
              "      <th>2004</th>\n",
              "      <th>2005</th>\n",
              "      <th>2006</th>\n",
              "      <th>2007</th>\n",
              "      <th>2008</th>\n",
              "      <th>2009</th>\n",
              "      <th>2010</th>\n",
              "      <th>2011</th>\n",
              "      <th>2012</th>\n",
              "      <th>2013</th>\n",
              "    </tr>\n",
              "  </thead>\n",
              "  <tbody>\n",
              "    <tr>\n",
              "      <th>China</th>\n",
              "      <td>5123</td>\n",
              "      <td>6682</td>\n",
              "      <td>3308</td>\n",
              "      <td>1863</td>\n",
              "      <td>1527</td>\n",
              "      <td>1816</td>\n",
              "      <td>1960</td>\n",
              "      <td>2643</td>\n",
              "      <td>2758</td>\n",
              "      <td>4323</td>\n",
              "      <td>...</td>\n",
              "      <td>36619</td>\n",
              "      <td>42584</td>\n",
              "      <td>33518</td>\n",
              "      <td>27642</td>\n",
              "      <td>30037</td>\n",
              "      <td>29622</td>\n",
              "      <td>30391</td>\n",
              "      <td>28502</td>\n",
              "      <td>33024</td>\n",
              "      <td>34129</td>\n",
              "    </tr>\n",
              "    <tr>\n",
              "      <th>India</th>\n",
              "      <td>8880</td>\n",
              "      <td>8670</td>\n",
              "      <td>8147</td>\n",
              "      <td>7338</td>\n",
              "      <td>5704</td>\n",
              "      <td>4211</td>\n",
              "      <td>7150</td>\n",
              "      <td>10189</td>\n",
              "      <td>11522</td>\n",
              "      <td>10343</td>\n",
              "      <td>...</td>\n",
              "      <td>28235</td>\n",
              "      <td>36210</td>\n",
              "      <td>33848</td>\n",
              "      <td>28742</td>\n",
              "      <td>28261</td>\n",
              "      <td>29456</td>\n",
              "      <td>34235</td>\n",
              "      <td>27509</td>\n",
              "      <td>30933</td>\n",
              "      <td>33087</td>\n",
              "    </tr>\n",
              "  </tbody>\n",
              "</table>\n",
              "<p>2 rows × 34 columns</p>\n",
              "</div>\n",
              "    <div class=\"colab-df-buttons\">\n",
              "\n",
              "  <div class=\"colab-df-container\">\n",
              "    <button class=\"colab-df-convert\" onclick=\"convertToInteractive('df-8abaeb90-9ab0-40be-94c2-5451cc366c46')\"\n",
              "            title=\"Convert this dataframe to an interactive table.\"\n",
              "            style=\"display:none;\">\n",
              "\n",
              "  <svg xmlns=\"http://www.w3.org/2000/svg\" height=\"24px\" viewBox=\"0 -960 960 960\">\n",
              "    <path d=\"M120-120v-720h720v720H120Zm60-500h600v-160H180v160Zm220 220h160v-160H400v160Zm0 220h160v-160H400v160ZM180-400h160v-160H180v160Zm440 0h160v-160H620v160ZM180-180h160v-160H180v160Zm440 0h160v-160H620v160Z\"/>\n",
              "  </svg>\n",
              "    </button>\n",
              "\n",
              "  <style>\n",
              "    .colab-df-container {\n",
              "      display:flex;\n",
              "      gap: 12px;\n",
              "    }\n",
              "\n",
              "    .colab-df-convert {\n",
              "      background-color: #E8F0FE;\n",
              "      border: none;\n",
              "      border-radius: 50%;\n",
              "      cursor: pointer;\n",
              "      display: none;\n",
              "      fill: #1967D2;\n",
              "      height: 32px;\n",
              "      padding: 0 0 0 0;\n",
              "      width: 32px;\n",
              "    }\n",
              "\n",
              "    .colab-df-convert:hover {\n",
              "      background-color: #E2EBFA;\n",
              "      box-shadow: 0px 1px 2px rgba(60, 64, 67, 0.3), 0px 1px 3px 1px rgba(60, 64, 67, 0.15);\n",
              "      fill: #174EA6;\n",
              "    }\n",
              "\n",
              "    .colab-df-buttons div {\n",
              "      margin-bottom: 4px;\n",
              "    }\n",
              "\n",
              "    [theme=dark] .colab-df-convert {\n",
              "      background-color: #3B4455;\n",
              "      fill: #D2E3FC;\n",
              "    }\n",
              "\n",
              "    [theme=dark] .colab-df-convert:hover {\n",
              "      background-color: #434B5C;\n",
              "      box-shadow: 0px 1px 3px 1px rgba(0, 0, 0, 0.15);\n",
              "      filter: drop-shadow(0px 1px 2px rgba(0, 0, 0, 0.3));\n",
              "      fill: #FFFFFF;\n",
              "    }\n",
              "  </style>\n",
              "\n",
              "    <script>\n",
              "      const buttonEl =\n",
              "        document.querySelector('#df-8abaeb90-9ab0-40be-94c2-5451cc366c46 button.colab-df-convert');\n",
              "      buttonEl.style.display =\n",
              "        google.colab.kernel.accessAllowed ? 'block' : 'none';\n",
              "\n",
              "      async function convertToInteractive(key) {\n",
              "        const element = document.querySelector('#df-8abaeb90-9ab0-40be-94c2-5451cc366c46');\n",
              "        const dataTable =\n",
              "          await google.colab.kernel.invokeFunction('convertToInteractive',\n",
              "                                                    [key], {});\n",
              "        if (!dataTable) return;\n",
              "\n",
              "        const docLinkHtml = 'Like what you see? Visit the ' +\n",
              "          '<a target=\"_blank\" href=https://colab.research.google.com/notebooks/data_table.ipynb>data table notebook</a>'\n",
              "          + ' to learn more about interactive tables.';\n",
              "        element.innerHTML = '';\n",
              "        dataTable['output_type'] = 'display_data';\n",
              "        await google.colab.output.renderOutput(dataTable, element);\n",
              "        const docLink = document.createElement('div');\n",
              "        docLink.innerHTML = docLinkHtml;\n",
              "        element.appendChild(docLink);\n",
              "      }\n",
              "    </script>\n",
              "  </div>\n",
              "\n",
              "\n",
              "<div id=\"df-8494bc82-46a2-4c60-9514-628e65b38d03\">\n",
              "  <button class=\"colab-df-quickchart\" onclick=\"quickchart('df-8494bc82-46a2-4c60-9514-628e65b38d03')\"\n",
              "            title=\"Suggest charts\"\n",
              "            style=\"display:none;\">\n",
              "\n",
              "<svg xmlns=\"http://www.w3.org/2000/svg\" height=\"24px\"viewBox=\"0 0 24 24\"\n",
              "     width=\"24px\">\n",
              "    <g>\n",
              "        <path d=\"M19 3H5c-1.1 0-2 .9-2 2v14c0 1.1.9 2 2 2h14c1.1 0 2-.9 2-2V5c0-1.1-.9-2-2-2zM9 17H7v-7h2v7zm4 0h-2V7h2v10zm4 0h-2v-4h2v4z\"/>\n",
              "    </g>\n",
              "</svg>\n",
              "  </button>\n",
              "\n",
              "<style>\n",
              "  .colab-df-quickchart {\n",
              "      --bg-color: #E8F0FE;\n",
              "      --fill-color: #1967D2;\n",
              "      --hover-bg-color: #E2EBFA;\n",
              "      --hover-fill-color: #174EA6;\n",
              "      --disabled-fill-color: #AAA;\n",
              "      --disabled-bg-color: #DDD;\n",
              "  }\n",
              "\n",
              "  [theme=dark] .colab-df-quickchart {\n",
              "      --bg-color: #3B4455;\n",
              "      --fill-color: #D2E3FC;\n",
              "      --hover-bg-color: #434B5C;\n",
              "      --hover-fill-color: #FFFFFF;\n",
              "      --disabled-bg-color: #3B4455;\n",
              "      --disabled-fill-color: #666;\n",
              "  }\n",
              "\n",
              "  .colab-df-quickchart {\n",
              "    background-color: var(--bg-color);\n",
              "    border: none;\n",
              "    border-radius: 50%;\n",
              "    cursor: pointer;\n",
              "    display: none;\n",
              "    fill: var(--fill-color);\n",
              "    height: 32px;\n",
              "    padding: 0;\n",
              "    width: 32px;\n",
              "  }\n",
              "\n",
              "  .colab-df-quickchart:hover {\n",
              "    background-color: var(--hover-bg-color);\n",
              "    box-shadow: 0 1px 2px rgba(60, 64, 67, 0.3), 0 1px 3px 1px rgba(60, 64, 67, 0.15);\n",
              "    fill: var(--button-hover-fill-color);\n",
              "  }\n",
              "\n",
              "  .colab-df-quickchart-complete:disabled,\n",
              "  .colab-df-quickchart-complete:disabled:hover {\n",
              "    background-color: var(--disabled-bg-color);\n",
              "    fill: var(--disabled-fill-color);\n",
              "    box-shadow: none;\n",
              "  }\n",
              "\n",
              "  .colab-df-spinner {\n",
              "    border: 2px solid var(--fill-color);\n",
              "    border-color: transparent;\n",
              "    border-bottom-color: var(--fill-color);\n",
              "    animation:\n",
              "      spin 1s steps(1) infinite;\n",
              "  }\n",
              "\n",
              "  @keyframes spin {\n",
              "    0% {\n",
              "      border-color: transparent;\n",
              "      border-bottom-color: var(--fill-color);\n",
              "      border-left-color: var(--fill-color);\n",
              "    }\n",
              "    20% {\n",
              "      border-color: transparent;\n",
              "      border-left-color: var(--fill-color);\n",
              "      border-top-color: var(--fill-color);\n",
              "    }\n",
              "    30% {\n",
              "      border-color: transparent;\n",
              "      border-left-color: var(--fill-color);\n",
              "      border-top-color: var(--fill-color);\n",
              "      border-right-color: var(--fill-color);\n",
              "    }\n",
              "    40% {\n",
              "      border-color: transparent;\n",
              "      border-right-color: var(--fill-color);\n",
              "      border-top-color: var(--fill-color);\n",
              "    }\n",
              "    60% {\n",
              "      border-color: transparent;\n",
              "      border-right-color: var(--fill-color);\n",
              "    }\n",
              "    80% {\n",
              "      border-color: transparent;\n",
              "      border-right-color: var(--fill-color);\n",
              "      border-bottom-color: var(--fill-color);\n",
              "    }\n",
              "    90% {\n",
              "      border-color: transparent;\n",
              "      border-bottom-color: var(--fill-color);\n",
              "    }\n",
              "  }\n",
              "</style>\n",
              "\n",
              "  <script>\n",
              "    async function quickchart(key) {\n",
              "      const quickchartButtonEl =\n",
              "        document.querySelector('#' + key + ' button');\n",
              "      quickchartButtonEl.disabled = true;  // To prevent multiple clicks.\n",
              "      quickchartButtonEl.classList.add('colab-df-spinner');\n",
              "      try {\n",
              "        const charts = await google.colab.kernel.invokeFunction(\n",
              "            'suggestCharts', [key], {});\n",
              "      } catch (error) {\n",
              "        console.error('Error during call to suggestCharts:', error);\n",
              "      }\n",
              "      quickchartButtonEl.classList.remove('colab-df-spinner');\n",
              "      quickchartButtonEl.classList.add('colab-df-quickchart-complete');\n",
              "    }\n",
              "    (() => {\n",
              "      let quickchartButtonEl =\n",
              "        document.querySelector('#df-8494bc82-46a2-4c60-9514-628e65b38d03 button');\n",
              "      quickchartButtonEl.style.display =\n",
              "        google.colab.kernel.accessAllowed ? 'block' : 'none';\n",
              "    })();\n",
              "  </script>\n",
              "</div>\n",
              "\n",
              "  <div id=\"id_d4617b8a-c766-4b5b-8db0-c633a401b816\">\n",
              "    <style>\n",
              "      .colab-df-generate {\n",
              "        background-color: #E8F0FE;\n",
              "        border: none;\n",
              "        border-radius: 50%;\n",
              "        cursor: pointer;\n",
              "        display: none;\n",
              "        fill: #1967D2;\n",
              "        height: 32px;\n",
              "        padding: 0 0 0 0;\n",
              "        width: 32px;\n",
              "      }\n",
              "\n",
              "      .colab-df-generate:hover {\n",
              "        background-color: #E2EBFA;\n",
              "        box-shadow: 0px 1px 2px rgba(60, 64, 67, 0.3), 0px 1px 3px 1px rgba(60, 64, 67, 0.15);\n",
              "        fill: #174EA6;\n",
              "      }\n",
              "\n",
              "      [theme=dark] .colab-df-generate {\n",
              "        background-color: #3B4455;\n",
              "        fill: #D2E3FC;\n",
              "      }\n",
              "\n",
              "      [theme=dark] .colab-df-generate:hover {\n",
              "        background-color: #434B5C;\n",
              "        box-shadow: 0px 1px 3px 1px rgba(0, 0, 0, 0.15);\n",
              "        filter: drop-shadow(0px 1px 2px rgba(0, 0, 0, 0.3));\n",
              "        fill: #FFFFFF;\n",
              "      }\n",
              "    </style>\n",
              "    <button class=\"colab-df-generate\" onclick=\"generateWithVariable('df_China_India')\"\n",
              "            title=\"Generate code using this dataframe.\"\n",
              "            style=\"display:none;\">\n",
              "\n",
              "  <svg xmlns=\"http://www.w3.org/2000/svg\" height=\"24px\"viewBox=\"0 0 24 24\"\n",
              "       width=\"24px\">\n",
              "    <path d=\"M7,19H8.4L18.45,9,17,7.55,7,17.6ZM5,21V16.75L18.45,3.32a2,2,0,0,1,2.83,0l1.4,1.43a1.91,1.91,0,0,1,.58,1.4,1.91,1.91,0,0,1-.58,1.4L9.25,21ZM18.45,9,17,7.55Zm-12,3A5.31,5.31,0,0,0,4.9,8.1,5.31,5.31,0,0,0,1,6.5,5.31,5.31,0,0,0,4.9,4.9,5.31,5.31,0,0,0,6.5,1,5.31,5.31,0,0,0,8.1,4.9,5.31,5.31,0,0,0,12,6.5,5.46,5.46,0,0,0,6.5,12Z\"/>\n",
              "  </svg>\n",
              "    </button>\n",
              "    <script>\n",
              "      (() => {\n",
              "      const buttonEl =\n",
              "        document.querySelector('#id_d4617b8a-c766-4b5b-8db0-c633a401b816 button.colab-df-generate');\n",
              "      buttonEl.style.display =\n",
              "        google.colab.kernel.accessAllowed ? 'block' : 'none';\n",
              "\n",
              "      buttonEl.onclick = () => {\n",
              "        google.colab.notebook.generateWithVariable('df_China_India');\n",
              "      }\n",
              "      })();\n",
              "    </script>\n",
              "  </div>\n",
              "\n",
              "    </div>\n",
              "  </div>\n"
            ],
            "application/vnd.google.colaboratory.intrinsic+json": {
              "type": "dataframe",
              "variable_name": "df_China_India"
            }
          },
          "metadata": {},
          "execution_count": 36
        }
      ],
      "source": [
        "### type your answer here\n",
        "\n",
        "years1 = list(map(str, range(1980, 2014)))\n",
        "df_China_India = df_can.loc[['China','India'], years1]\n",
        "df_China_India"
      ]
    },
    {
      "cell_type": "markdown",
      "metadata": {
        "id": "ySjuAQy6s7Lr"
      },
      "source": [
        "<details><summary>Click here for a sample python solution</summary>\n",
        "\n",
        "```python\n",
        "    #The correct answer is:\n",
        "    df_CI = df_can.loc[['India', 'China'], years]\n",
        "    df_CI\n",
        "```\n",
        "\n",
        "</details>\n"
      ]
    },
    {
      "cell_type": "markdown",
      "metadata": {
        "id": "RpgwX07As7Ls"
      },
      "source": [
        "Step 2: Plot graph. We will explicitly specify line plot by passing in `kind` parameter to `plot()`.\n"
      ]
    },
    {
      "cell_type": "code",
      "execution_count": 37,
      "metadata": {
        "tags": [],
        "colab": {
          "base_uri": "https://localhost:8080/",
          "height": 800
        },
        "id": "awthsdQEs7Ls",
        "outputId": "4c104cfc-acf5-4455-cb81-978df52a6780"
      },
      "outputs": [
        {
          "output_type": "execute_result",
          "data": {
            "text/plain": [
              "<Axes: >"
            ]
          },
          "metadata": {},
          "execution_count": 37
        },
        {
          "output_type": "display_data",
          "data": {
            "text/plain": [
              "<Figure size 640x480 with 1 Axes>"
            ],
            "image/png": "[encoded data removed]"
          },
          "metadata": {}
        }
      ],
      "source": [
        "### type your answer here\n",
        "\n",
        "df_China_India.plot(kind ='line')\n"
      ]
    },
    {
      "cell_type": "markdown",
      "metadata": {
        "id": "3fPpJXHUs7Ls"
      },
      "source": [
        "<details><summary>Click here for a sample python solution</summary>\n",
        "\n",
        "```python\n",
        "    #The correct answer is:\n",
        "    df_CI.plot(kind='line')\n",
        "```\n",
        "\n",
        "</details>\n"
      ]
    },
    {
      "cell_type": "markdown",
      "metadata": {
        "id": "9FO2Qe92s7Ls"
      },
      "source": [
        "That doesn't look right...\n",
        "\n",
        "Recall that *pandas* plots the indices on the x-axis and the columns as individual lines on the y-axis. Since `df_CI` is a dataframe with the `country` as the index and `years` as the columns, we must first transpose the dataframe using `transpose()` method to swap the row and columns.\n"
      ]
    },
    {
      "cell_type": "code",
      "execution_count": 38,
      "metadata": {
        "tags": [],
        "colab": {
          "base_uri": "https://localhost:8080/",
          "height": 206
        },
        "id": "Ol5g3VbDs7Lt",
        "outputId": "ec65409d-5ad9-4dcb-e369-9a8b0cece9ff"
      },
      "outputs": [
        {
          "output_type": "execute_result",
          "data": {
            "text/plain": [
              "      China  India\n",
              "1980   5123   8880\n",
              "1981   6682   8670\n",
              "1982   3308   8147\n",
              "1983   1863   7338\n",
              "1984   1527   5704"
            ],
            "text/html": [
              "\n",
              "  <div id=\"df-0a053ed8-288b-4b82-9a8b-02bb0776b1d0\" class=\"colab-df-container\">\n",
              "    <div>\n",
              "<style scoped>\n",
              "    .dataframe tbody tr th:only-of-type {\n",
              "        vertical-align: middle;\n",
              "    }\n",
              "\n",
              "    .dataframe tbody tr th {\n",
              "        vertical-align: top;\n",
              "    }\n",
              "\n",
              "    .dataframe thead th {\n",
              "        text-align: right;\n",
              "    }\n",
              "</style>\n",
              "<table border=\"1\" class=\"dataframe\">\n",
              "  <thead>\n",
              "    <tr style=\"text-align: right;\">\n",
              "      <th></th>\n",
              "      <th>China</th>\n",
              "      <th>India</th>\n",
              "    </tr>\n",
              "  </thead>\n",
              "  <tbody>\n",
              "    <tr>\n",
              "      <th>1980</th>\n",
              "      <td>5123</td>\n",
              "      <td>8880</td>\n",
              "    </tr>\n",
              "    <tr>\n",
              "      <th>1981</th>\n",
              "      <td>6682</td>\n",
              "      <td>8670</td>\n",
              "    </tr>\n",
              "    <tr>\n",
              "      <th>1982</th>\n",
              "      <td>3308</td>\n",
              "      <td>8147</td>\n",
              "    </tr>\n",
              "    <tr>\n",
              "      <th>1983</th>\n",
              "      <td>1863</td>\n",
              "      <td>7338</td>\n",
              "    </tr>\n",
              "    <tr>\n",
              "      <th>1984</th>\n",
              "      <td>1527</td>\n",
              "      <td>5704</td>\n",
              "    </tr>\n",
              "  </tbody>\n",
              "</table>\n",
              "</div>\n",
              "    <div class=\"colab-df-buttons\">\n",
              "\n",
              "  <div class=\"colab-df-container\">\n",
              "    <button class=\"colab-df-convert\" onclick=\"convertToInteractive('df-0a053ed8-288b-4b82-9a8b-02bb0776b1d0')\"\n",
              "            title=\"Convert this dataframe to an interactive table.\"\n",
              "            style=\"display:none;\">\n",
              "\n",
              "  <svg xmlns=\"http://www.w3.org/2000/svg\" height=\"24px\" viewBox=\"0 -960 960 960\">\n",
              "    <path d=\"M120-120v-720h720v720H120Zm60-500h600v-160H180v160Zm220 220h160v-160H400v160Zm0 220h160v-160H400v160ZM180-400h160v-160H180v160Zm440 0h160v-160H620v160ZM180-180h160v-160H180v160Zm440 0h160v-160H620v160Z\"/>\n",
              "  </svg>\n",
              "    </button>\n",
              "\n",
              "  <style>\n",
              "    .colab-df-container {\n",
              "      display:flex;\n",
              "      gap: 12px;\n",
              "    }\n",
              "\n",
              "    .colab-df-convert {\n",
              "      background-color: #E8F0FE;\n",
              "      border: none;\n",
              "      border-radius: 50%;\n",
              "      cursor: pointer;\n",
              "      display: none;\n",
              "      fill: #1967D2;\n",
              "      height: 32px;\n",
              "      padding: 0 0 0 0;\n",
              "      width: 32px;\n",
              "    }\n",
              "\n",
              "    .colab-df-convert:hover {\n",
              "      background-color: #E2EBFA;\n",
              "      box-shadow: 0px 1px 2px rgba(60, 64, 67, 0.3), 0px 1px 3px 1px rgba(60, 64, 67, 0.15);\n",
              "      fill: #174EA6;\n",
              "    }\n",
              "\n",
              "    .colab-df-buttons div {\n",
              "      margin-bottom: 4px;\n",
              "    }\n",
              "\n",
              "    [theme=dark] .colab-df-convert {\n",
              "      background-color: #3B4455;\n",
              "      fill: #D2E3FC;\n",
              "    }\n",
              "\n",
              "    [theme=dark] .colab-df-convert:hover {\n",
              "      background-color: #434B5C;\n",
              "      box-shadow: 0px 1px 3px 1px rgba(0, 0, 0, 0.15);\n",
              "      filter: drop-shadow(0px 1px 2px rgba(0, 0, 0, 0.3));\n",
              "      fill: #FFFFFF;\n",
              "    }\n",
              "  </style>\n",
              "\n",
              "    <script>\n",
              "      const buttonEl =\n",
              "        document.querySelector('#df-0a053ed8-288b-4b82-9a8b-02bb0776b1d0 button.colab-df-convert');\n",
              "      buttonEl.style.display =\n",
              "        google.colab.kernel.accessAllowed ? 'block' : 'none';\n",
              "\n",
              "      async function convertToInteractive(key) {\n",
              "        const element = document.querySelector('#df-0a053ed8-288b-4b82-9a8b-02bb0776b1d0');\n",
              "        const dataTable =\n",
              "          await google.colab.kernel.invokeFunction('convertToInteractive',\n",
              "                                                    [key], {});\n",
              "        if (!dataTable) return;\n",
              "\n",
              "        const docLinkHtml = 'Like what you see? Visit the ' +\n",
              "          '<a target=\"_blank\" href=https://colab.research.google.com/notebooks/data_table.ipynb>data table notebook</a>'\n",
              "          + ' to learn more about interactive tables.';\n",
              "        element.innerHTML = '';\n",
              "        dataTable['output_type'] = 'display_data';\n",
              "        await google.colab.output.renderOutput(dataTable, element);\n",
              "        const docLink = document.createElement('div');\n",
              "        docLink.innerHTML = docLinkHtml;\n",
              "        element.appendChild(docLink);\n",
              "      }\n",
              "    </script>\n",
              "  </div>\n",
              "\n",
              "\n",
              "<div id=\"df-6711bdf1-6788-4143-87e5-0b8c8efd4dff\">\n",
              "  <button class=\"colab-df-quickchart\" onclick=\"quickchart('df-6711bdf1-6788-4143-87e5-0b8c8efd4dff')\"\n",
              "            title=\"Suggest charts\"\n",
              "            style=\"display:none;\">\n",
              "\n",
              "<svg xmlns=\"http://www.w3.org/2000/svg\" height=\"24px\"viewBox=\"0 0 24 24\"\n",
              "     width=\"24px\">\n",
              "    <g>\n",
              "        <path d=\"M19 3H5c-1.1 0-2 .9-2 2v14c0 1.1.9 2 2 2h14c1.1 0 2-.9 2-2V5c0-1.1-.9-2-2-2zM9 17H7v-7h2v7zm4 0h-2V7h2v10zm4 0h-2v-4h2v4z\"/>\n",
              "    </g>\n",
              "</svg>\n",
              "  </button>\n",
              "\n",
              "<style>\n",
              "  .colab-df-quickchart {\n",
              "      --bg-color: #E8F0FE;\n",
              "      --fill-color: #1967D2;\n",
              "      --hover-bg-color: #E2EBFA;\n",
              "      --hover-fill-color: #174EA6;\n",
              "      --disabled-fill-color: #AAA;\n",
              "      --disabled-bg-color: #DDD;\n",
              "  }\n",
              "\n",
              "  [theme=dark] .colab-df-quickchart {\n",
              "      --bg-color: #3B4455;\n",
              "      --fill-color: #D2E3FC;\n",
              "      --hover-bg-color: #434B5C;\n",
              "      --hover-fill-color: #FFFFFF;\n",
              "      --disabled-bg-color: #3B4455;\n",
              "      --disabled-fill-color: #666;\n",
              "  }\n",
              "\n",
              "  .colab-df-quickchart {\n",
              "    background-color: var(--bg-color);\n",
              "    border: none;\n",
              "    border-radius: 50%;\n",
              "    cursor: pointer;\n",
              "    display: none;\n",
              "    fill: var(--fill-color);\n",
              "    height: 32px;\n",
              "    padding: 0;\n",
              "    width: 32px;\n",
              "  }\n",
              "\n",
              "  .colab-df-quickchart:hover {\n",
              "    background-color: var(--hover-bg-color);\n",
              "    box-shadow: 0 1px 2px rgba(60, 64, 67, 0.3), 0 1px 3px 1px rgba(60, 64, 67, 0.15);\n",
              "    fill: var(--button-hover-fill-color);\n",
              "  }\n",
              "\n",
              "  .colab-df-quickchart-complete:disabled,\n",
              "  .colab-df-quickchart-complete:disabled:hover {\n",
              "    background-color: var(--disabled-bg-color);\n",
              "    fill: var(--disabled-fill-color);\n",
              "    box-shadow: none;\n",
              "  }\n",
              "\n",
              "  .colab-df-spinner {\n",
              "    border: 2px solid var(--fill-color);\n",
              "    border-color: transparent;\n",
              "    border-bottom-color: var(--fill-color);\n",
              "    animation:\n",
              "      spin 1s steps(1) infinite;\n",
              "  }\n",
              "\n",
              "  @keyframes spin {\n",
              "    0% {\n",
              "      border-color: transparent;\n",
              "      border-bottom-color: var(--fill-color);\n",
              "      border-left-color: var(--fill-color);\n",
              "    }\n",
              "    20% {\n",
              "      border-color: transparent;\n",
              "      border-left-color: var(--fill-color);\n",
              "      border-top-color: var(--fill-color);\n",
              "    }\n",
              "    30% {\n",
              "      border-color: transparent;\n",
              "      border-left-color: var(--fill-color);\n",
              "      border-top-color: var(--fill-color);\n",
              "      border-right-color: var(--fill-color);\n",
              "    }\n",
              "    40% {\n",
              "      border-color: transparent;\n",
              "      border-right-color: var(--fill-color);\n",
              "      border-top-color: var(--fill-color);\n",
              "    }\n",
              "    60% {\n",
              "      border-color: transparent;\n",
              "      border-right-color: var(--fill-color);\n",
              "    }\n",
              "    80% {\n",
              "      border-color: transparent;\n",
              "      border-right-color: var(--fill-color);\n",
              "      border-bottom-color: var(--fill-color);\n",
              "    }\n",
              "    90% {\n",
              "      border-color: transparent;\n",
              "      border-bottom-color: var(--fill-color);\n",
              "    }\n",
              "  }\n",
              "</style>\n",
              "\n",
              "  <script>\n",
              "    async function quickchart(key) {\n",
              "      const quickchartButtonEl =\n",
              "        document.querySelector('#' + key + ' button');\n",
              "      quickchartButtonEl.disabled = true;  // To prevent multiple clicks.\n",
              "      quickchartButtonEl.classList.add('colab-df-spinner');\n",
              "      try {\n",
              "        const charts = await google.colab.kernel.invokeFunction(\n",
              "            'suggestCharts', [key], {});\n",
              "      } catch (error) {\n",
              "        console.error('Error during call to suggestCharts:', error);\n",
              "      }\n",
              "      quickchartButtonEl.classList.remove('colab-df-spinner');\n",
              "      quickchartButtonEl.classList.add('colab-df-quickchart-complete');\n",
              "    }\n",
              "    (() => {\n",
              "      let quickchartButtonEl =\n",
              "        document.querySelector('#df-6711bdf1-6788-4143-87e5-0b8c8efd4dff button');\n",
              "      quickchartButtonEl.style.display =\n",
              "        google.colab.kernel.accessAllowed ? 'block' : 'none';\n",
              "    })();\n",
              "  </script>\n",
              "</div>\n",
              "\n",
              "    </div>\n",
              "  </div>\n"
            ],
            "application/vnd.google.colaboratory.intrinsic+json": {
              "type": "dataframe",
              "variable_name": "df_China_India",
              "summary": "{\n  \"name\": \"df_China_India\",\n  \"rows\": 34,\n  \"fields\": [\n    {\n      \"column\": \"China\",\n      \"properties\": {\n        \"dtype\": \"number\",\n        \"std\": 13568,\n        \"min\": 1527,\n        \"max\": 42584,\n        \"num_unique_values\": 34,\n        \"samples\": [\n          14398,\n          30069,\n          27642\n        ],\n        \"semantic_type\": \"\",\n        \"description\": \"\"\n      }\n    },\n    {\n      \"column\": \"India\",\n      \"properties\": {\n        \"dtype\": \"number\",\n        \"std\": 10007,\n        \"min\": 4211,\n        \"max\": 36210,\n        \"num_unique_values\": 34,\n        \"samples\": [\n          18489,\n          18974,\n          28742\n        ],\n        \"semantic_type\": \"\",\n        \"description\": \"\"\n      }\n    }\n  ]\n}"
            }
          },
          "metadata": {},
          "execution_count": 38
        }
      ],
      "source": [
        "df_China_India = df_China_India.transpose()\n",
        "df_China_India.head()"
      ]
    },
    {
      "cell_type": "markdown",
      "metadata": {
        "id": "YwSfnw-ds7Lt"
      },
      "source": [
        "*pandas* will auomatically graph the two countries on the same graph. Go ahead and plot the new transposed dataframe. Make sure to add a title to the plot and label the axes.\n"
      ]
    },
    {
      "cell_type": "code",
      "execution_count": 39,
      "metadata": {
        "tags": [],
        "colab": {
          "base_uri": "https://localhost:8080/",
          "height": 477
        },
        "id": "wkNHTtTws7Lt",
        "outputId": "45803de4-79e6-488d-cd54-09873640ceab"
      },
      "outputs": [
        {
          "output_type": "display_data",
          "data": {
            "text/plain": [
              "<Figure size 640x480 with 1 Axes>"
            ],
            "image/png": "[encoded data removed]"
          },
          "metadata": {}
        }
      ],
      "source": [
        "### type your answer here\n",
        "\n",
        "df_China_India.index = df_China_India.index.map(int)\n",
        "\n",
        "df_China_India.plot(kind='line')\n",
        "\n",
        "plt.title('Immigration from China and India')\n",
        "plt.ylabel('Number of immigrants')\n",
        "plt.xlabel('Years')\n",
        "\n",
        "plt.show()"
      ]
    },
    {
      "cell_type": "markdown",
      "metadata": {
        "id": "1etSI7-Es7Lu"
      },
      "source": [
        "<details><summary>Click here for a sample python solution</summary>\n",
        "\n",
        "```python\n",
        "    #The correct answer is:\n",
        "    df_CI.index = df_CI.index.map(int) # let's change the index values of df_CI to type integer for plotting\n",
        "    df_CI.plot(kind='line')\n",
        "\n",
        "    plt.title('Immigrants from China and India')\n",
        "    plt.ylabel('Number of Immigrants')\n",
        "    plt.xlabel('Years')\n",
        "\n",
        "    plt.show()\n",
        "```\n",
        "\n",
        "</details>\n"
      ]
    },
    {
      "cell_type": "markdown",
      "metadata": {
        "id": "El2JyKVws7Lu"
      },
      "source": [
        "<br>From the above plot, we can observe that the China and India have very similar immigration trends through the years.\n"
      ]
    },
    {
      "cell_type": "markdown",
      "metadata": {
        "id": "xcLY-AK4s7Lu"
      },
      "source": [
        "*Note*: How come we didn't need to transpose Haiti's dataframe before plotting (like we did for df_CI)?\n",
        "\n",
        "That's because `haiti` is a series as opposed to a dataframe, and has the years as its indices as shown below.\n",
        "```python\n",
        "print(type(haiti))\n",
        "print(haiti.head(5))\n",
        "```\n",
        ">class 'pandas.core.series.Series' <br>\n",
        ">1980    1666 <br>\n",
        ">1981    3692 <br>\n",
        ">1982    3498 <br>\n",
        ">1983    2860 <br>\n",
        ">1984    1418 <br>\n",
        ">Name: Haiti, dtype: int64 <br>\n"
      ]
    },
    {
      "cell_type": "markdown",
      "metadata": {
        "id": "_2ShW-yIs7Lv"
      },
      "source": [
        "Line plot is a handy tool to display several dependent variables against one independent variable. However, it is recommended that no more than 5-10 lines on a single graph; any more than that and it becomes difficult to interpret.\n"
      ]
    },
    {
      "cell_type": "markdown",
      "metadata": {
        "id": "Hqcu96F7s7Lv"
      },
      "source": [
        "**Question:** Compare the trend of top 5 countries that contributed the most to immigration to Canada.\n"
      ]
    },
    {
      "source": [
        "### type your answer here\n",
        "df_can.sort_values(by='Total', ascending=False, axis=0, inplace=True)\n",
        "df_top_5 = df_can.head(5)\n",
        "\n",
        "years2 = list(map(str, range(1980, 2014)))\n",
        "df_top5 = df_top_5[years2].transpose()\n",
        "\n",
        "df_top5\n",
        "\n",
        "# The line below was causing the error. 'df_top' was not defined.\n",
        "# df_top.index = df_China_India.index.map(int)\n",
        "# It's likely you meant to use df_top5 instead\n",
        "df_top5.index = df_top5.index.map(int)  # Changing to df_top5\n",
        "\n",
        "# You probably want to plot df_top5 too, not df_China_India\n",
        "df_top5.plot(kind='line') # Changed to df_top5\n",
        "\n",
        "plt.title('Immigration Trend of Top 5 Countries') # Changed title to be more relevant\n",
        "plt.ylabel('Number of immigrants')\n",
        "plt.xlabel('Years')\n",
        "\n",
        "plt.show()"
      ],
      "cell_type": "code",
      "metadata": {
        "colab": {
          "base_uri": "https://localhost:8080/",
          "height": 477
        },
        "id": "7ixHOmAZt4_E",
        "outputId": "8018cc70-5b22-471e-ed2c-51af29d8e5a3"
      },
      "execution_count": 40,
      "outputs": [
        {
          "output_type": "display_data",
          "data": {
            "text/plain": [
              "<Figure size 640x480 with 1 Axes>"
            ],
            "image/png": "[encoded data removed]"
          },
          "metadata": {}
        }
      ]
    },
    {
      "cell_type": "markdown",
      "metadata": {
        "id": "pO0HCVZ6s7Lw"
      },
      "source": [
        "<details><summary>Click here for a sample python solution</summary>\n",
        "\n",
        "```python\n",
        "    #The correct answer is:    \n",
        "    #Step 1: Get the dataset. Recall that we created a Total column that calculates cumulative immigration by country.\n",
        "    #We will sort on this column to get our top 5 countries using pandas sort_values() method.\n",
        "    \n",
        "    inplace = True # paramemter saves the changes to the original df_can dataframe\n",
        "    df_can.sort_values(by='Total', ascending=False, axis=0, inplace=True)\n",
        "\n",
        "    # get the top 5 entries\n",
        "    df_top5 = df_can.head(5)\n",
        "\n",
        "    # transpose the dataframe\n",
        "    df_top5 = df_top5[years].transpose()\n",
        "\n",
        "    print(df_top5)\n",
        "\n",
        "\n",
        "    #Step 2: Plot the dataframe. To make the plot more readeable, we will change the size using the `figsize` parameter.\n",
        "    df_top5.index = df_top5.index.map(int) # let's change the index values of df_top5 to type integer for plotting\n",
        "    df_top5.plot(kind='line', figsize=(14, 8)) # pass a tuple (x, y) size\n",
        "\n",
        "\n",
        "\n",
        "    plt.title('Immigration Trend of Top 5 Countries')\n",
        "    plt.ylabel('Number of Immigrants')\n",
        "    plt.xlabel('Years')\n",
        "\n",
        "\n",
        "    plt.show()\n",
        "\n",
        "```\n",
        "\n",
        "</details>\n"
      ]
    },
    {
      "cell_type": "markdown",
      "metadata": {
        "id": "j_CGsTKBs7Lw"
      },
      "source": [
        "### Other Plots\n",
        "\n",
        "Congratulations! you have learned how to wrangle data with python and create a line plot with Matplotlib. There are many other plotting styles available other than the default Line plot, all of which can be accessed by passing `kind` keyword to `plot()`. The full list of available plots are as follows:\n",
        "\n",
        "* `bar` for vertical bar plots\n",
        "* `barh` for horizontal bar plots\n",
        "* `hist` for histogram\n",
        "* `box` for boxplot\n",
        "* `kde` or `density` for density plots\n",
        "* `area` for area plots\n",
        "* `pie` for pie plots\n",
        "* `scatter` for scatter plots\n",
        "* `hexbin` for hexbin plot\n"
      ]
    }
  ],
  "metadata": {
    "kernelspec": {
      "display_name": "Python 3 (ipykernel)",
      "language": "python",
      "name": "python3"
    },
    "language_info": {
      "codemirror_mode": {
        "name": "ipython",
        "version": 3
      },
      "file_extension": ".py",
      "mimetype": "text/x-python",
      "name": "python",
      "nbconvert_exporter": "python",
      "pygments_lexer": "ipython3",
      "version": "3.11.5"
    },
    "colab": {
      "provenance": []
    }
  },
  "nbformat": 4,
  "nbformat_minor": 0
}